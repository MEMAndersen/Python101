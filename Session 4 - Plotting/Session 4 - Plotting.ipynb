{
 "cells": [
  {
   "cell_type": "code",
   "execution_count": 1,
   "metadata": {},
   "outputs": [
    {
     "data": {
      "text/html": [
       "<style>\n",
       "/* div#notebook {\n",
       " font-size: 13pt;\n",
       " line-height: 120%;\n",
       " color: #303030;\n",
       " -webkit-font-smoothing: antialiased !important;\n",
       " padding-top: 25px !important;\n",
       "} */\n",
       "\n",
       "\n",
       "body,\n",
       "div.body {\n",
       " font-family: Roboto;\n",
       " font-size: 16pt;\n",
       " color: #303030;\n",
       " /* background-color: #d1b5b5; */\n",
       " /* background: #8f4f4f; */\n",
       " margin-right: 10px;\n",
       " -webkit-font-smoothing: antialiased !important;\n",
       "}\n",
       "\n",
       "/* Code inside HTML/Markdown */\n",
       "div.rendered_html code {\n",
       "    border-radius: 5px;\n",
       "}\n",
       "\n",
       "/* Output area from code cells */\n",
       "div.output_area pre {\n",
       "    font-size: 11pt !important;\n",
       "    color: #303030;\n",
       "}\n",
       "\n",
       "\n",
       "\n",
       "/* HEADING 1 styles */\n",
       "h1 {\n",
       "    font-family: 'Roboto', 'Signika', sans-serif;\n",
       "    font-weight: ligher;\n",
       "    font-style: normal;\n",
       "    font-size: 20pt;\n",
       "    width: 100%;\n",
       "    text-align: left;\n",
       "    color: #EE7631;\n",
       "    border-bottom: 1px solid rgba(238, 118, 49, 0.575);\n",
       "    padding-bottom: 6px;\n",
       "    /* font-variant: small-caps; */\n",
       "    }\n",
       "  \n",
       "    /* table {\n",
       "        margin: 5px;\n",
       "        width: 290px;\n",
       "    }\n",
       "  \n",
       "    th {\n",
       "        padding: 3px;\n",
       "    }\n",
       "  \n",
       "    td {\n",
       "        padding-left: 8px;\n",
       "        padding-right: 8px;\n",
       "        border: 1px solid #990000;\n",
       "        background-color: #ffffcc;\n",
       "    }\n",
       "\n",
       "    #trHeader {\n",
       "        text-decoration: underline;\n",
       "        color: #990000;\n",
       "    }\n",
       "  \n",
       "    .centerCell {\n",
       "        text-align: center;\n",
       "    } */\n",
       "\n",
       "/* HEADING 2 styles */\n",
       "h2 {\n",
       "        font-family: \"Roboto\";\n",
       "        text-align: left;\n",
       "        font-size: 12pt;\n",
       "        color: #EE7631;\n",
       "        margin-bottom: 5px;\n",
       "        /* border-bottom: 1px solid lightgray; */\n",
       "        border-bottom: 0.8px solid rgba(238, 118, 49, 0.575);\n",
       "        padding-bottom: 6px\n",
       "    }\n",
       "  \n",
       "    /* table {\n",
       "        margin: 5px;\n",
       "        width: 290px;\n",
       "    }\n",
       "  \n",
       "    th {\n",
       "        padding: 3px;\n",
       "    }\n",
       "  \n",
       "    td {\n",
       "        padding-left: 8px;\n",
       "        padding-right: 8px;\n",
       "        border: 1px solid #990000;\n",
       "        background-color: #ffffcc;\n",
       "    }\n",
       "\n",
       "    #trHeader {\n",
       "        text-decoration: underline;\n",
       "        color: #990000;\n",
       "    }\n",
       "  \n",
       "    .centerCell {\n",
       "        text-align: center;\n",
       "    } */\n",
       "\n",
       "h3 {\n",
       "        font-family: 'Roboto';\n",
       "        /* text-align: left; */\n",
       "        /* font-size: 12pt; */\n",
       "        /* color: #EE7631; */\n",
       "        /* margin-bottom: 5px; */\n",
       "        border-bottom: 0.5px solid #ededed;\n",
       "        padding-bottom: 6px\n",
       "    }\n",
       "\n",
       "\n",
       "\n",
       "p {\n",
       "    font-family: Roboto;\n",
       "    font-size: 16px;\n",
       "}\n",
       "\n",
       "/* Lists  with dots */\n",
       "ul {\n",
       "    font-size: 16px;\n",
       "    line-height: 150%;\n",
       "}\n",
       "\n",
       "/* Lists  with numbers */\n",
       "ol {\n",
       "    font-size: 16px;\n",
       "    line-height: 150%;\n",
       "}\n",
       "\n",
       "/* Horizontal rules */\n",
       "hr { \n",
       "    margin-top: 3px; \n",
       "    margin-bottom: 3px \n",
       "}\n",
       "\n",
       "/* Links */\n",
       "a {\n",
       "  color: #EE7631;\n",
       "}\n",
       "\n",
       "\n",
       "/* Code cells in the notebook - NOTE: color is font-color */\n",
       ".cm-s-ipython.CodeMirror {\n",
       " font-family: monospace, monospace;\n",
       " font-size: 11pt;\n",
       " background: #ededed;\n",
       " color: #303030;     \n",
       " border-radius: 2px;\n",
       " /* margin-right: 10px; */\n",
       " font-style: normal;\n",
       " font-weight: normal;\n",
       "}\n",
       "\n",
       "\n",
       "/* Background of code cells */\n",
       ".cm-s-ipython.CodeMirror {\n",
       " font-family: monospace, monospace;\n",
       " font-size: 11pt;\n",
       " background: rgba(211, 211, 211, 0.123);\n",
       " color: #303030;\n",
       " border-radius: 2px;\n",
       " font-style: normal;\n",
       " font-weight: normal;\n",
       "}\n",
       "\n",
       "\n",
       "/* .CodeMirror-gutters {\n",
       " border: none;\n",
       " border-right: 1px solid #e0e1e3 !important;\n",
       " background-color: #e0e1e3 !important;\n",
       " background: #e0e1e3 !important;\n",
       " border-radius: 0px;\n",
       " white-space: nowrap;\n",
       "} */\n",
       "\n",
       "\n",
       "\n",
       "/* Code syntax highlithig theme */\n",
       ".cm-s-ipython .CodeMirror-cursor {\n",
       " border-left: 2px solid #ff711a !important;\n",
       "}\n",
       ".cm-s-ipython span.cm-comment {\n",
       " color: #8d8d8d;\n",
       " font-style: italic;                                                   \n",
       "}\n",
       ".cm-s-ipython span.cm-atom {\n",
       " color: #055be0;\n",
       "}\n",
       ".cm-s-ipython span.cm-number {\n",
       " color: #ff8132;\n",
       "}\n",
       ".cm-s-ipython span.cm-property {\n",
       " color: #303030;\n",
       "}\n",
       ".cm-s-ipython span.cm-attribute {\n",
       " color: #303030;\n",
       "}\n",
       ".cm-s-ipython span.cm-keyword {\n",
       " color: #a045ddf3;\n",
       " font-weight: normal;\n",
       "}\n",
       ".cm-s-ipython span.cm-string {\n",
       " color: #009e07;\n",
       "}\n",
       ".cm-s-ipython span.cm-meta {\n",
       " color: #aa22ff;\n",
       "}\n",
       ".cm-s-ipython span.cm-operator {\n",
       " color: #055be0;\n",
       "}\n",
       ".cm-s-ipython span.cm-builtin {\n",
       " color: #3f2ce7;\n",
       "}\n",
       ".cm-s-ipython span.cm-variable {\n",
       " color: #303030;\n",
       "}\n",
       ".cm-s-ipython span.cm-variable-2 {\n",
       " color: #de143d;\n",
       "}\n",
       ".cm-s-ipython span.cm-variable-3 {\n",
       " color: #aa22ff;\n",
       "}\n",
       ".cm-s-ipython span.cm-def {\n",
       " color: #e22978;\n",
       " font-weight: normal;\n",
       "}\n",
       ".cm-s-ipython span.cm-error {\n",
       " background: rgba(191,11,55,.70);\n",
       "}\n",
       ".cm-s-ipython span.cm-tag {\n",
       " color: #e22978;\n",
       "}\n",
       ".cm-s-ipython span.cm-link {\n",
       " color: #ef5c00;\n",
       "}\n",
       ".cm-s-ipython span.cm-storage {\n",
       " color: #055be0;\n",
       "}\n",
       ".cm-s-ipython span.cm-entity {\n",
       " color: #e22978;\n",
       "}\n",
       ".cm-s-ipython span.cm-quote {\n",
       " color: #009e07;\n",
       "}\n",
       "\n",
       "\n",
       "\n",
       "</style>"
      ],
      "text/plain": [
       "<IPython.core.display.HTML object>"
      ]
     },
     "execution_count": 1,
     "metadata": {},
     "output_type": "execute_result"
    }
   ],
   "source": [
    "from IPython.display import HTML\n",
    "HTML('<style>{}</style>'.format(open('../css/cowi.css').read()))"
   ]
  },
  {
   "cell_type": "markdown",
   "metadata": {},
   "source": [
    "# 4. Plotting\n",
    "\n",
    "## Plotting with `matplotlib`\n",
    "There are many plotting libraries in the Python ecosystem, and more being added all the time. The most widely known is called `matplotlib`, which is the one we are going to focus on.\n",
    "\n",
    "`matplotlib` is a third party library, which means that it is developed and maintained by the Python Community and not the core developers of the Python language itself. This means that it doesn't ship with the Python installation and has to be installed separately before we can import it and use it in our programs. `matplotlib` is one of the oldest, most known and well documented third party libraries in Python.\n",
    "\n",
    "---\n",
    "\n",
    "If `matplotlib` is not yet installed you can install it in a way that suits your setup. \n",
    "\n",
    "> If you are using the **Standard Python** installation, go to the Windows cmd and type `pip install matplotlib`\n",
    "\n",
    "> If you are using an **Anaconda Python** distribution go to Anaconda Prompt and type `conda install matplotlib`\n",
    "\n",
    "---\n",
    "\n",
    "*The lines in the code cell below are just some setup code for showing plots inside this notebook environment. These are not relevant in an editor.*"
   ]
  },
  {
   "cell_type": "code",
   "execution_count": 1,
   "metadata": {
    "cell_style": "center"
   },
   "outputs": [],
   "source": [
    "# Enable for plots to be shown inside Jupyter Notebook cells \n",
    "# (Note: This line is not needed when using an editor)   \n",
    "%matplotlib inline  \n",
    "\n",
    "# The lines below sets the figure size throughout the notebook\n",
    "import matplotlib as mpl\n",
    "mpl.rcParams['figure.figsize'] = 7, 5"
   ]
  },
  {
   "cell_type": "markdown",
   "metadata": {},
   "source": [
    "## Importing `matplotlib` to the script\n",
    "\n",
    "The `matplotlib` library needs to be imported in a script in order to access its functions and methods:"
   ]
  },
  {
   "cell_type": "code",
   "execution_count": 2,
   "metadata": {},
   "outputs": [],
   "source": [
    "# Import the plotting library and refer to it as plt later on\n",
    "import matplotlib.pyplot as plt"
   ]
  },
  {
   "cell_type": "markdown",
   "metadata": {},
   "source": [
    "It is customary to import `as plt` so referencing can be done as \n",
    "\n",
    "~~~python\n",
    "plt.do_something()                # plt replaces matplotlib.pyplot\n",
    "~~~\n",
    "Where `do_something()` is some function/method inside `matplotlib`. This is much shorter than typing\n",
    "~~~python\n",
    "matplotlib.pyplot.do_something()  # Long and cumbersome to type\n",
    "~~~\n",
    "\n",
    "In fact, the `plt` part could be named differently, but **it is widely accepted to use this naming**, which makes it easier to read other people's code."
   ]
  },
  {
   "cell_type": "markdown",
   "metadata": {},
   "source": [
    "## Simple plotting API\n",
    "The simple API for plotting in `matplotlib` uses commands which deliberately were chosen very similar to the `Matlab` syntax. \n",
    "\n",
    "API stand for *Application Programming Interface*. It is basically a simplified way of interacting with more complex underlying code. Here, we will type fairly simple plotting commands, which do a lot of low level work in the background.\n",
    "\n",
    "Below we define some $x$- and $y$-coordinates to be plotted:   "
   ]
  },
  {
   "cell_type": "code",
   "execution_count": null,
   "metadata": {},
   "outputs": [],
   "source": [
    "# Create x- and y-coordinates for f(x) = x^2 \n",
    "x = [i for i in range(-100, 105, 5)]\n",
    "y = [i**2 for i in x]"
   ]
  },
  {
   "cell_type": "markdown",
   "metadata": {},
   "source": [
    "Once the coordinates are there, creating a simple line plot is easy:"
   ]
  },
  {
   "cell_type": "code",
   "execution_count": 3,
   "metadata": {},
   "outputs": [
    {
     "data": {
      "image/png": "[encoded data removed]",
      "text/plain": [
       "<Figure size 432x288 with 1 Axes>"
      ]
     },
     "metadata": {
      "needs_background": "light"
     },
     "output_type": "display_data"
    }
   ],
   "source": [
    "# Create basic plot\n",
    "plt.plot(x, y)\n",
    "\n",
    "# Show plot\n",
    "plt.show()"
   ]
  },
  {
   "cell_type": "markdown",
   "metadata": {},
   "source": [
    "Given a list of data for `x` and `y`, a line graph can be produced in a single command `plt.plot(x,y)`, while actually showing the plot has its own command. \n",
    "\n",
    "It might seem wierd that the `plt.show()` is needed, but it is not always desired to have the plot shown. Sometimes it is desired to produce the graph and have it saved to a png-file or do something else with it instead of showing it. \n",
    "For more complex plots there might be many different plotting commands to build the plot, but only a single showing command is needed at the end. "
   ]
  },
  {
   "cell_type": "markdown",
   "metadata": {},
   "source": [
    "### Customization of graphs\n",
    "The plot of $f(x)=x^2$ from above can be made much nicer by a little customization. The command names should make the code self-explanatory."
   ]
  },
  {
   "cell_type": "code",
   "execution_count": 4,
   "metadata": {},
   "outputs": [
    {
     "data": {
      "image/png": "[encoded data removed]",
      "text/plain": [
       "<Figure size 432x288 with 1 Axes>"
      ]
     },
     "metadata": {
      "needs_background": "light"
     },
     "output_type": "display_data"
    }
   ],
   "source": [
    "plt.title('Graph for $f(x) = x^2$', fontsize=16)\n",
    "plt.xlabel('$x$', fontsize=14)\n",
    "plt.ylabel('$f(x)$', fontsize=14)\n",
    "plt.plot(x, y, '.-', color='limegreen', markersize=6)\n",
    "plt.show()"
   ]
  },
  {
   "cell_type": "markdown",
   "metadata": {},
   "source": [
    "### Plotting multiple graphs in the same plot\n",
    "It is possible to plot many graphs in the same plot. It can also be styled with a grid and a legend:"
   ]
  },
  {
   "cell_type": "code",
   "execution_count": 5,
   "metadata": {},
   "outputs": [
    {
     "data": {
      "image/png": "[encoded data removed]",
      "text/plain": [
       "<Figure size 432x288 with 1 Axes>"
      ]
     },
     "metadata": {
      "needs_background": "light"
     },
     "output_type": "display_data"
    }
   ],
   "source": [
    "# Create x-coordinates for graphs \n",
    "x = [i for i in range(-10, 10, 1)]\n",
    "\n",
    "# Produce y-values for different graphs\n",
    "y1 = [i**2 for i in x]     # f(x) = x^2\n",
    "y2 = [10*i**2 for i in x]  # f(x) = 10x^2\n",
    "y3 = [i**3 for i in x]     # f(x) = x^3\n",
    "y4 = [2*i**3 for i in x]   # f(x) = 2x^3\n",
    "\n",
    "# Create plots with legend labels for each graph\n",
    "plt.plot(x, y1, label='$f(x)=x^2$')\n",
    "plt.plot(x, y2, label='$f(x)=10x^2$')\n",
    "plt.plot(x, y3, label='$f(x)=x^3$')\n",
    "plt.plot(x, y4, label='$f(x)=2x^3$')\n",
    "\n",
    "# Set titles, grid and legend\n",
    "plt.title('Different graphs', fontsize=16)\n",
    "plt.xlabel('$x$', fontsize=14)\n",
    "plt.ylabel('$y$', fontsize=14)\n",
    "plt.grid(linestyle=':')\n",
    "plt.legend(fontsize=14)\n",
    "plt.show()"
   ]
  },
  {
   "cell_type": "markdown",
   "metadata": {},
   "source": [
    "> * Graphs are automatically colorized, but this can of course be customized.\n",
    "> * Legend will by default try to position itself so it does not overlap with the graphs, but it can be forced into a certain position if need be.  "
   ]
  },
  {
   "cell_type": "markdown",
   "metadata": {},
   "source": [
    "### Fill between\n",
    "Plot areas can be filled based on conditions. \n",
    "\n",
    "The code in the next cell serves only to create dummy data for an example graph. "
   ]
  },
  {
   "cell_type": "code",
   "execution_count": 6,
   "metadata": {},
   "outputs": [],
   "source": [
    "# The code in this cell is just for creating a dummy graph\n",
    "import numpy as np\n",
    "x1 = np.linspace(1, 10, 100)\n",
    "x2 = np.linspace(10, 15, 100)\n",
    "x3 = np.linspace(15, 20, 100)\n",
    "y1 = 2 * np.sin(1.98*x1)\n",
    "y2 = 3 * np.sin(-x2)\n",
    "y3 = 1 * np.sin(2.2 * x3)\n",
    "y = np.append(np.append(y1, y2), y3)\n",
    "x = np.append(np.append(x1, x2), x3)"
   ]
  },
  {
   "cell_type": "markdown",
   "metadata": {},
   "source": [
    "Plotting this dummy graph and filling areas between the graph and $y=0$ with green color:"
   ]
  },
  {
   "cell_type": "code",
   "execution_count": 7,
   "metadata": {},
   "outputs": [
    {
     "data": {
      "image/png": "[encoded data removed]",
      "text/plain": [
       "<Figure size 432x288 with 1 Axes>"
      ]
     },
     "metadata": {
      "needs_background": "light"
     },
     "output_type": "display_data"
    }
   ],
   "source": [
    "# Plot line graph in black\n",
    "plt.plot(x, y, color='black', linewidth=1)\n",
    "\n",
    "# Put green/purple fill between the graph y=0\n",
    "plt.fill_between(x, y, color='limegreen',  alpha=.25)\n",
    "\n",
    "plt.show()"
   ]
  },
  {
   "cell_type": "markdown",
   "metadata": {},
   "source": [
    "We can make differentiated colors by given a conditional statement in the keyword argument `where`:"
   ]
  },
  {
   "cell_type": "code",
   "execution_count": 8,
   "metadata": {},
   "outputs": [
    {
     "data": {
      "image/png": "[encoded data removed]",
      "text/plain": [
       "<Figure size 432x288 with 1 Axes>"
      ]
     },
     "metadata": {
      "needs_background": "light"
     },
     "output_type": "display_data"
    }
   ],
   "source": [
    "# Plot line graph in black\n",
    "plt.plot(x, y, color='black', linewidth=1)\n",
    "\n",
    "# Put green/purple fill between the graph y=0\n",
    "plt.fill_between(x, y, where= y <= 0, color='limegreen',  alpha=.25)\n",
    "plt.fill_between(x, y, where= y > 0, color='darkorchid',  alpha=.25)\n",
    "\n",
    "plt.show()"
   ]
  },
  {
   "cell_type": "markdown",
   "metadata": {},
   "source": [
    " > **Note:** The sequences to be plotted has to be `numpy` arrays in order to make element wise comparison like `where= y > 0`. Trying this with standard Python lists will throw a `TypeError: '<' not supported between instances of 'list' and 'int'`. This is one of the many benefits of `numpy`. See a little more info about `numpy` later in this text."
   ]
  },
  {
   "cell_type": "markdown",
   "metadata": {},
   "source": [
    "### Subplots\n",
    "Creating subplots is also straight forward:"
   ]
  },
  {
   "cell_type": "code",
   "execution_count": 9,
   "metadata": {},
   "outputs": [
    {
     "data": {
      "image/png": "[encoded data removed]",
      "text/plain": [
       "<Figure size 1008x216 with 3 Axes>"
      ]
     },
     "metadata": {
      "needs_background": "light"
     },
     "output_type": "display_data"
    }
   ],
   "source": [
    "# Create a figure for holding subplots and set size\n",
    "plt.figure(figsize=(14,3))\n",
    "\n",
    "# Create first plot as line plot\n",
    "plt.subplot(131)\n",
    "plt.plot([1, 2, 3, 4], [1, 2, 3, 4])\n",
    "\n",
    "# Create second plot as scatter plot\n",
    "plt.subplot(132)\n",
    "plt.plot([1, 2, 3, 4], [1, 2, 3, 4], '.', markersize=12)\n",
    "\n",
    "# Create third plot as bar plot\n",
    "plt.subplot(133)\n",
    "plt.bar([1, 2, 3, 4], [1, 2, 3, 4])\n",
    "plt.show()"
   ]
  },
  {
   "cell_type": "markdown",
   "metadata": {},
   "source": [
    "> * The `subplot` argument conatins three digits, where the first one is the number of rows, the second the number of columns and the third the current plot to manipulate. \n",
    "> * For making more complicated grid formations, shared axis tick marks etc. The **Object Oriented API** should be used instead."
   ]
  },
  {
   "cell_type": "markdown",
   "metadata": {},
   "source": [
    "## Object Oriented API\n",
    "Almost every aspect of a visualization can be controlled. However, in order to access more complex controls, the way of interaction with the graph elements also becomes a little more complex. \n",
    "\n",
    "In order to use the more powerful `matplotlib` API, we get into so-called *Object Oriented Programming*. We access each element of a figure as an *object* and manipulate that object.\n",
    "\n",
    "The figure below gives an overview of the objects that can be controlled in a figure to enable very high customizability of plots.\n",
    "\n",
    "![title](matplotlib_objects_anatomy_of_a_figure.png)\n",
    "\n",
    "Source: [Anatomy of a figure](https://matplotlib.org/3.1.1/gallery/showcase/anatomy.html)."
   ]
  },
  {
   "cell_type": "markdown",
   "metadata": {},
   "source": [
    "### Subplots"
   ]
  },
  {
   "cell_type": "markdown",
   "metadata": {},
   "source": [
    "* Note especially that the `Axes` object is the actual content of the plot, and therefore does not refer to `x`- or `y`-axis themselves.\n",
    "\n",
    "The Object Oriented API is recommended for more complex plotting like creation of larger grids of subplots where each plot needs independent adjustments. \n",
    "\n",
    "In the example below we still run the `plt.` command, but we save it to two variables `fig` and `ax`: "
   ]
  },
  {
   "cell_type": "code",
   "execution_count": 10,
   "metadata": {},
   "outputs": [
    {
     "data": {
      "image/png": "[encoded data removed]",
      "text/plain": [
       "<Figure size 432x288 with 6 Axes>"
      ]
     },
     "metadata": {
      "needs_background": "light"
     },
     "output_type": "display_data"
    }
   ],
   "source": [
    "# Create a 2 by 3 subplot grid with shared x- and y-axis\n",
    "fig, ax = plt.subplots(2, 3, sharex='col', sharey='row')\n",
    "\n",
    "# Put content on the plot at grid spot 1,1 (0 indexed)\n",
    "ax[1, 1].plot([1, 2, 3], [1 ,2, 3], 'g-.')\n",
    "ax[1, 1].plot([3, 2, 1], [1, 2, 3], 'm:')\n",
    "\n",
    "plt.show()"
   ]
  },
  {
   "cell_type": "markdown",
   "metadata": {},
   "source": [
    "> * The figure that is created is saved in the variable `fig` \n",
    "> * The axes for all the subplots are saved in an array variable `ax`\n",
    "> * Individual subplots can be manipulated by indexing into the `ax` variable. Indexing starts from `0`, so `ax[1,1]` is the middle plot in the bottom row as seen above.\n",
    "> * There are many other plot types where the *Object Orientated API* is preferred compared to the simple Matlab style one."
   ]
  },
  {
   "cell_type": "markdown",
   "metadata": {},
   "source": [
    "## Online help and plotting galleries\n",
    "Instead of creating a figure from scrath, it can be quicker to serch the web for the graph style of choice, fetch a piece of code and modify it. \n",
    "\n",
    "Here are some useful links:\n",
    "\n",
    "* Plotting gallery for `matplotlib` with code examples: https://matplotlib.org/gallery/index.html\n",
    "\n",
    "\n",
    "* Some more examples with `matplotlib`: https://www.machinelearningplus.com/plots/top-50-matplotlib-visualizations-the-master-plots-python/\n",
    "\n",
    "\n",
    "* Predefined styles `matplotlib`: https://matplotlib.org/gallery/style_sheets/style_sheets_reference.html\n",
    "\n",
    "\n",
    "* Predefined color names for `matplotlib`: https://matplotlib.org/gallery/color/named_colors.html. Colors can also be defined as hexidecimal or RGB.\n"
   ]
  },
  {
   "cell_type": "markdown",
   "metadata": {},
   "source": [
    "## Numerical computation library: `numpy`\n",
    "Another very well known and broadly used third party library is `numpy` (short for Numerical Python), which contains many useful features for fast and efficient numerical calculations. This library has a lot of the same functionality as `Matlab` and utilizes vectorization to perform calculations.\n",
    "\n",
    "It can be installed in the same way as every other third party library, namely by entering `pip install numpy` or `conda install numpy` from the relevant Prompt.\n",
    "\n",
    "Once installed `numpy` can be used as shown below. Like with the `matplotlib` import, `numpy`also has a community accepted standard of importing as `np`:"
   ]
  },
  {
   "cell_type": "code",
   "execution_count": 12,
   "metadata": {},
   "outputs": [],
   "source": [
    "import numpy as np"
   ]
  },
  {
   "cell_type": "markdown",
   "metadata": {},
   "source": [
    "The basic data structure in `numpy` is called an array, which can be compared to a normal Python list.\n",
    "\n",
    "A numpy array can be created, for example from a list, like this:"
   ]
  },
  {
   "cell_type": "code",
   "execution_count": 13,
   "metadata": {},
   "outputs": [],
   "source": [
    "# A normal Python list\n",
    "L = [1, 2, 3, 4, 5]   \n",
    "\n",
    "# List converted to numpy array\n",
    "arr = np.array(L)     "
   ]
  },
  {
   "cell_type": "markdown",
   "metadata": {},
   "source": [
    "Printing the array looks like a normal list:"
   ]
  },
  {
   "cell_type": "code",
   "execution_count": 13,
   "metadata": {},
   "outputs": [
    {
     "name": "stdout",
     "output_type": "stream",
     "text": [
      "[1 2 3 4 5]\n"
     ]
    }
   ],
   "source": [
    "print(arr)  "
   ]
  },
  {
   "cell_type": "markdown",
   "metadata": {},
   "source": [
    "But it is in fact a `numpy` array, which can be seen by inspecting the type:"
   ]
  },
  {
   "cell_type": "code",
   "execution_count": 14,
   "metadata": {},
   "outputs": [
    {
     "name": "stdout",
     "output_type": "stream",
     "text": [
      "<class 'numpy.ndarray'>\n"
     ]
    }
   ],
   "source": [
    "print(type(arr))"
   ]
  },
  {
   "cell_type": "markdown",
   "metadata": {},
   "source": [
    "The fact that `numpy` uses verctorization can be seen for example by performing mulitplication:"
   ]
  },
  {
   "cell_type": "code",
   "execution_count": 14,
   "metadata": {},
   "outputs": [
    {
     "name": "stdout",
     "output_type": "stream",
     "text": [
      "[ 2  4  6  8 10]\n"
     ]
    }
   ],
   "source": [
    "# Multiply all array elements by 2 and print result\n",
    "arr_double = 2 * arr\n",
    "\n",
    "print(arr_double)"
   ]
  },
  {
   "cell_type": "markdown",
   "metadata": {},
   "source": [
    "Recall that doing the same operation with a normal Python list is a little more complicated. Here shown with a list comprehension, but a normal `for` loop could also be used. "
   ]
  },
  {
   "cell_type": "code",
   "execution_count": 15,
   "metadata": {},
   "outputs": [
    {
     "name": "stdout",
     "output_type": "stream",
     "text": [
      "[2, 4, 6, 8, 10]\n"
     ]
    }
   ],
   "source": [
    "# Multiply all list elements by 2 and print result\n",
    "L_double = [2*i for i in L]\n",
    "\n",
    "print(L_double)"
   ]
  },
  {
   "cell_type": "markdown",
   "metadata": {},
   "source": [
    "### Function: `np.linspace()`\n",
    "\n",
    "As mentioned, `numpy` has many useful functions and methods. One of the most used functions is \n",
    "\n",
    "~~~python\n",
    "numpy.linspace(start, stop, num=50) \n",
    "~~~\n",
    "\n",
    "which will generate an array of `num` numbers evenly spaced between `start` and `end`. As we day from Session 3 about functions, the `num=50` means that `num` is an optional argument, the default value of which is 50. So, if `num` is not specified, the generated array will have 50 evenly spaced numbers between `start`and `end`.\n",
    "\n",
    "**Note** that the `numpy.linspace()` function has more arguments, which are not shown here. See the documention for more info: https://docs.scipy.org/doc/numpy/reference/generated/numpy.linspace.html\n",
    "\n",
    "An example:"
   ]
  },
  {
   "cell_type": "code",
   "execution_count": 17,
   "metadata": {},
   "outputs": [
    {
     "data": {
      "text/plain": [
       "array([0.        , 0.11111111, 0.22222222, 0.33333333, 0.44444444,\n",
       "       0.55555556, 0.66666667, 0.77777778, 0.88888889, 1.        ])"
      ]
     },
     "execution_count": 17,
     "metadata": {},
     "output_type": "execute_result"
    }
   ],
   "source": [
    "np.linspace(0, 1, 10)"
   ]
  },
  {
   "cell_type": "markdown",
   "metadata": {},
   "source": [
    "The `numpy.linspace()` function can especially be useful when generating $x$-values for plotting purposes."
   ]
  },
  {
   "cell_type": "markdown",
   "metadata": {},
   "source": [
    "### Benefits of `numpy`\n",
    "* In general `numpy` operations are **much** faster than equivalent operations in standard Python. When handling large amounts of data or computationally intensive tasks, `numpy` should be therefore preferred. \n",
    "\n",
    "\n",
    "* Many useful functions and methods for working with data are predefined and optimized in the library. Before starting to reinvent the wheel for array manipulations, check if a `numpy` solution exists. `np.linspace()` is just one example of this.\n",
    "\n",
    "\n",
    "* A lot of other libraries are built on top of or uses `numpy`. In fact `matplotlib` uses it for its plotting operations.\n",
    "\n",
    "\n",
    "* Using `numpy`'s predefined functions and methods often lead to more readable than using other ways. Consider e.g. the example from above with element-wise multiplication. The Matlab-style syntax is just more reable for numeric computation."
   ]
  },
  {
   "cell_type": "markdown",
   "metadata": {},
   "source": [
    "\n",
    "# Exercise 1.1\n",
    "All exercises use the simple API described above.\n",
    "\n",
    "Plot a black line graph with dots at the points with these coordinates:\n",
    "\n",
    "~~~python\n",
    "x = [1, 3, 6, 9, 16]\n",
    "y = [7, 3, 7, 1, 5]\n",
    "~~~\n",
    "\n",
    "Remember to `import matplotlib.pyplot as plt` and to call `plt.show()`. \n",
    "\n",
    "The color can be set by `plt.plot(..., color='black')` or by a shortcut `plt.plot(..., 'k')`, where `'k'` is black becuase `'b'` is blue. \n",
    "\n",
    "# Exercise 1.2\n",
    "Set the plot title on the graph from Exercise 1.1. You choose what the title should be.\n",
    "\n",
    "# Exercise 1.3\n",
    "Set the title of the $x$- and $y$-axis on the graph from Exercise 1.1. You choose what the title should be.\n",
    "\n",
    "# Exercise 1.4\n",
    "Add the graphs with the following $y$-values to the plot from Exercise 1.1. Use the same $x$-values for all curves.\n",
    "\n",
    "~~~python\n",
    "y2 = [9, 5, 5, 2, 6]\n",
    "y3 = [4, 6, 2, 6, 8]\n",
    "y4 = [1, 8, 1, 3, 2]\n",
    "~~~\n",
    "\n",
    "# Exercise 1.5\n",
    "Go back through the code from the previous exercises and add a `label` to the plots that were produced. Choose a label text freely.\n",
    "Afterwards, add a legend to the plot. \n",
    "\n",
    "# Exercise 1.6 \n",
    "Save the figure to a png-file. This can be done by the command `plt.savefig(desired_filename.png)`. This will save it in the same folder as you have your script.\n",
    "\n",
    "\n",
    "*If you are dissatisfied with the size of the saved figure, this can be adjusted by explicitly creating the figure object before any of the graphs are created. Creating the figure object and setting a size is done by `plt.figure(figsize=(width, height))`. Both `width` and `height` are in inches. Try with different values.*\n",
    "\n",
    "\n",
    "*Note: When using the simple API it is not necessary to explicitly create the figure object before starting the plotting with `plt.plot()`, as the figure is automatically created in the background with default settings. When saving to a file where it is not possible to drag the plot after creation, it is often useful to set the figure size beforehand*\n",
    "\n",
    "# Exercise 2.1\n",
    "Create a new figure by the command `plt.figure()`. This will create a new figure object that subsequent commands will tie to. This is to avoid having the commands in this exercise be plotted in the plot from the previous exercises. \n",
    "\n",
    "\n",
    "Redo the graphs from the previous exercises, this time split into four subplots instead. You choose how to structure the grid and how to style the graphs with colors, titles, line types etc.\n",
    "\n",
    "\n",
    "# Exercise 2.2\n",
    "Create a new figure and replicate the same subplots as in Exercise 2.1. But this time, turn the plots into bar plots. The only difference is that the plotting call should now be `plt.bar(...)`.\n",
    "\n",
    "\n",
    "# Exercise 3.1\n",
    "Create plot that is filled with some color of your choice between $y=0$ and the curve defined by $xx$ and $yy$ below:\n",
    "\n",
    "~~~python \n",
    "import numpy as np\n",
    "xx = np.linspace(-100, 100, 100)\n",
    "yy = xx**2-3027                   # <- Element-wise multiplication and subtraction (numpy)\n",
    "~~~\n",
    "\n",
    "\n",
    "# Exercise 4.1\n",
    "Use `numpy.linspace()` to create an array with 10 values from 1-10. Save the array in a a variable called `x_arr`.\n",
    "\n",
    "Use the code below to create the $y$-values for five graphs. \n",
    "\n",
    "~~~python \n",
    "y_arr1 = np.random.rand(10)\n",
    "y_arr2 = np.random.rand(10)\n",
    "y_arr3 = np.random.rand(10)\n",
    "y_arr4 = np.random.rand(10)\n",
    "y_arr5 = np.random.rand(10)\n",
    "~~~\n",
    "\n",
    "\n",
    "*The `numpy.random.rand()` function creates random values between 0 and 1 (see documentation for more: https://docs.scipy.org/doc/numpy/reference/generated/numpy.random.rand.html)*\n",
    "\n",
    "\n",
    "Create a loop that goes through the five graphs. Each loop should create a figure with your chosen size and settings for the current graph and save it to a png-file.\n",
    "You should end up with five png-files each containing only a single graph/curve."
   ]
  },
  {
   "cell_type": "markdown",
   "metadata": {},
   "source": [
    "# If you are up for more \n",
    "Take the polygon plotting function `plot_polygon()` from the exercise solutions from Session 3. Create different polygons, run them through a for loop and save them to png-files. Remember that `plot_polygon()` calls the other functions `polygon_area()` and `polygon_centroid`, which also have to be copied."
   ]
  }
 ],
 "metadata": {
  "hide_input": false,
  "kernelspec": {
   "display_name": "Python 3",
   "language": "python",
   "name": "python3"
  },
  "language_info": {
   "codemirror_mode": {
    "name": "ipython",
    "version": 3
   },
   "file_extension": ".py",
   "mimetype": "text/x-python",
   "name": "python",
   "nbconvert_exporter": "python",
   "pygments_lexer": "ipython3",
   "version": "3.7.5"
  },
  "latex_envs": {
   "LaTeX_envs_menu_present": true,
   "autoclose": false,
   "autocomplete": true,
   "bibliofile": "biblio.bib",
   "cite_by": "apalike",
   "current_citInitial": 1,
   "eqLabelWithNumbers": true,
   "eqNumInitial": 1,
   "hotkeys": {
    "equation": "Ctrl-E",
    "itemize": "Ctrl-I"
   },
   "labels_anchors": false,
   "latex_user_defs": false,
   "report_style_numbering": false,
   "user_envs_cfg": false
  },
  "toc": {
   "base_numbering": 1,
   "nav_menu": {},
   "number_sections": false,
   "sideBar": true,
   "skip_h1_title": false,
   "title_cell": "Table of Contents",
   "title_sidebar": "Table of Contents",
   "toc_cell": false,
   "toc_position": {
    "height": "calc(100% - 180px)",
    "left": "10px",
    "top": "150px",
    "width": "228.507px"
   },
   "toc_section_display": true,
   "toc_window_display": true
  }
 },
 "nbformat": 4,
 "nbformat_minor": 2
}
