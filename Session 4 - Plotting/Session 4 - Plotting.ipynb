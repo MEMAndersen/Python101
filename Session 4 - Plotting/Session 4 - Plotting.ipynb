{
 "cells": [
  {
   "cell_type": "markdown",
   "metadata": {
    "toc": true
   },
   "source": [
    "<h1>Table of Contents<span class=\"tocSkip\"></span></h1>\n",
    "<div class=\"toc\"><ul class=\"toc-item\"><li><span><a href=\"#Session-4\" data-toc-modified-id=\"Session-4-1\">Session 4</a></span></li><li><span><a href=\"#Plotting-with-matplotlib\" data-toc-modified-id=\"Plotting-with-matplotlib-2\">Plotting with <code>matplotlib</code></a></span><ul class=\"toc-item\"><li><span><a href=\"#Simple-plotting-API\" data-toc-modified-id=\"Simple-plotting-API-2.1\">Simple plotting API</a></span><ul class=\"toc-item\"><li><span><a href=\"#Customization-of-graphs\" data-toc-modified-id=\"Customization-of-graphs-2.1.1\">Customization of graphs</a></span></li><li><span><a href=\"#Plotting-multiple-graphs-in-the-same-plot\" data-toc-modified-id=\"Plotting-multiple-graphs-in-the-same-plot-2.1.2\">Plotting multiple graphs in the same plot</a></span></li><li><span><a href=\"#Fill-between\" data-toc-modified-id=\"Fill-between-2.1.3\">Fill between</a></span></li><li><span><a href=\"#Subplots\" data-toc-modified-id=\"Subplots-2.1.4\">Subplots</a></span></li></ul></li><li><span><a href=\"#Object-Oriented-API\" data-toc-modified-id=\"Object-Oriented-API-2.2\">Object Oriented API</a></span><ul class=\"toc-item\"><li><span><a href=\"#Subplots\" data-toc-modified-id=\"Subplots-2.2.1\">Subplots</a></span></li></ul></li><li><span><a href=\"#Online-help-and-plotting-galleries\" data-toc-modified-id=\"Online-help-and-plotting-galleries-2.3\">Online help and plotting galleries</a></span></li></ul></li><li><span><a href=\"#Numerical-computation-library:-numpy\" data-toc-modified-id=\"Numerical-computation-library:-numpy-3\">Numerical computation library: <code>numpy</code></a></span></li><li><span><a href=\"#Exercises\" data-toc-modified-id=\"Exercises-4\">Exercises</a></span><ul class=\"toc-item\"><li><span><a href=\"#Exercise-1.1\" data-toc-modified-id=\"Exercise-1.1-4.1\">Exercise 1.1</a></span></li><li><span><a href=\"#Exercise-1.2\" data-toc-modified-id=\"Exercise-1.2-4.2\">Exercise 1.2</a></span></li><li><span><a href=\"#Exercise-1.3\" data-toc-modified-id=\"Exercise-1.3-4.3\">Exercise 1.3</a></span></li><li><span><a href=\"#Exercise-1.4\" data-toc-modified-id=\"Exercise-1.4-4.4\">Exercise 1.4</a></span></li><li><span><a href=\"#Exercise-1.5\" data-toc-modified-id=\"Exercise-1.5-4.5\">Exercise 1.5</a></span></li><li><span><a href=\"#Exercise-1.6\" data-toc-modified-id=\"Exercise-1.6-4.6\">Exercise 1.6</a></span></li><li><span><a href=\"#Exercise-2.1\" data-toc-modified-id=\"Exercise-2.1-4.7\">Exercise 2.1</a></span></li><li><span><a href=\"#Exercise-2.2\" data-toc-modified-id=\"Exercise-2.2-4.8\">Exercise 2.2</a></span></li><li><span><a href=\"#Exercise-3.1\" data-toc-modified-id=\"Exercise-3.1-4.9\">Exercise 3.1</a></span></li><li><span><a href=\"#Exercise-4.1\" data-toc-modified-id=\"Exercise-4.1-4.10\">Exercise 4.1</a></span></li><li><span><a href=\"#If-you-are-up-for-more\" data-toc-modified-id=\"If-you-are-up-for-more-4.11\">If you are up for more</a></span></li></ul></li></ul></div>"
   ]
  },
  {
   "cell_type": "code",
   "execution_count": null,
   "metadata": {},
   "outputs": [],
   "source": []
  },
  {
   "cell_type": "markdown",
   "metadata": {},
   "source": [
    "# Session 4\n",
    "\n",
    "# Plotting with `matplotlib`\n",
    "There are many plotting libraries in the Python ecosystem, and more being added all the time. The most widely known is called `matplotlib`, which is the one we are going to focus on.\n",
    "\n",
    "`matplotlib` is a third party library, which means that it is developed and maintained by the Python Community and not the core developers of the Python language itself. This means that it doesn't ship with the Python installation and has to be installed separately before we can import it and use it in our programs. `matplotlib` is one of the oldest, most known and well documented third party libraries in Python.\n",
    "\n",
    "To install the library, go to the Windows start menu and find *Anaconda Prompt*. When it opens, type `pip install matplotlib` and hit enter. This should install the most recent version on your system."
   ]
  },
  {
   "cell_type": "code",
   "execution_count": null,
   "metadata": {
    "cell_style": "center"
   },
   "outputs": [],
   "source": [
    "# Enable for plots to be shown inside Jupyter Notebook cells \n",
    "# (Note: This line is not needed when using an editor)   \n",
    "%matplotlib inline  \n",
    "\n",
    "# The lines below sets the figure size throughout the notebook\n",
    "import matplotlib as mpl\n",
    "mpl.rcParams['figure.figsize'] = 7, 5"
   ]
  },
  {
   "cell_type": "code",
   "execution_count": null,
   "metadata": {},
   "outputs": [],
   "source": [
    "# Import the plotting library and refer to it as plt later on\n",
    "import matplotlib.pyplot as plt"
   ]
  },
  {
   "cell_type": "markdown",
   "metadata": {},
   "source": [
    "It is customary to import `as plt` so referencing can be done as \n",
    "\n",
    "~~~python\n",
    "plt.do_something()                # plt replaces matplotlib.pyplot\n",
    "~~~\n",
    "Where `do_something()` is some function/method inside `matplotlib`. This is much shorter than typing\n",
    "~~~python\n",
    "matplotlib.pyplot.do_something()  # Long and cumbersome to type\n",
    "~~~\n",
    "\n",
    "In fact, the `plt` part could be named differently, but it is widely accepted to use this naming, which makes it easier to read other people's code."
   ]
  },
  {
   "cell_type": "markdown",
   "metadata": {},
   "source": [
    "## Simple plotting API\n",
    "The simple API for plotting in `matplotlib` uses commands which deliberately were chosen very similar to the `Matlab` syntax. \n",
    "\n",
    "API stand for *Application Programming Interface* and is basically a simplified way of interacting with more complex underlying code. Here, we will type fairly simple plotting commands, which do a lot of low level work in the background.\n",
    "\n",
    "Creating a simple line plot is extremely easy:   "
   ]
  },
  {
   "cell_type": "code",
   "execution_count": null,
   "metadata": {},
   "outputs": [],
   "source": [
    "# Create x- and y-coordinates for f(x) = x^2 \n",
    "x = [i for i in range(-100, 105, 5)]\n",
    "y = [i**2 for i in x]\n",
    "\n",
    "# Create basic plot\n",
    "plt.plot(x, y)\n",
    "\n",
    "# Show plot\n",
    "plt.show()"
   ]
  },
  {
   "cell_type": "markdown",
   "metadata": {},
   "source": [
    "Given a list of data for `x` and `y`, a line graph can be produced in a single command `plt.plot(x,y)`, while actually showing the plot has its own command. \n",
    "\n",
    "It might seem wierd that the `plt.show()` is needed, but it is not always desired to have the plot shown. Sometimes it is desired to produce the graph and have it saved to a png-file or do something else with it instead of showing it. "
   ]
  },
  {
   "cell_type": "markdown",
   "metadata": {},
   "source": [
    "### Customization of graphs\n",
    "The plot of $f(x)=x^2$ from above can be made much nicer by a little customization. The command names should make the code self-explanatory."
   ]
  },
  {
   "cell_type": "code",
   "execution_count": null,
   "metadata": {},
   "outputs": [],
   "source": [
    "plt.title('Graph for $f(x) = x^2$', fontsize=16)\n",
    "plt.xlabel('$x$', fontsize=14)\n",
    "plt.ylabel('$f(x)$', fontsize=14)\n",
    "plt.plot(x, y, '.-', color='limegreen', markersize=6)\n",
    "plt.show()"
   ]
  },
  {
   "cell_type": "markdown",
   "metadata": {},
   "source": [
    "### Plotting multiple graphs in the same plot\n",
    "It is possible to plot many graphs in the same plot and attach a legend:"
   ]
  },
  {
   "cell_type": "code",
   "execution_count": null,
   "metadata": {},
   "outputs": [],
   "source": [
    "# Create x-coordinates for graphs \n",
    "x = [i for i in range(-10, 10, 1)]\n",
    "\n",
    "# Produce y-values for different graphs\n",
    "y1 = [i**2 for i in x]     # f(x) = x^2\n",
    "y2 = [10*i**2 for i in x]  # f(x) = 10x^2\n",
    "y3 = [i**3 for i in x]     # f(x) = x^3\n",
    "y4 = [2*i**3 for i in x]   # f(x) = 2x^3\n",
    "\n",
    "# Create plots with legend labels for each graph\n",
    "plt.plot(x, y1, label='$f(x)=x^2$')\n",
    "plt.plot(x, y2, label='$f(x)=10x^2$')\n",
    "plt.plot(x, y3, label='$f(x)=x^3$')\n",
    "plt.plot(x, y4, label='$f(x)=2x^3$')\n",
    "\n",
    "# Set titles, grid and legend\n",
    "plt.title('Different graphs', fontsize=16)\n",
    "plt.xlabel('$x$', fontsize=14)\n",
    "plt.ylabel('$y$', fontsize=14)\n",
    "plt.grid(linestyle=':')\n",
    "plt.legend(fontsize=14)\n",
    "plt.show()"
   ]
  },
  {
   "cell_type": "markdown",
   "metadata": {},
   "source": [
    "* Graphs are automatically colorized, but this can of course be customized.\n",
    "* Legend will try to position itself so it does not overlap with the graphs.  \n",
    "\n"
   ]
  },
  {
   "cell_type": "markdown",
   "metadata": {},
   "source": [
    "### Fill between\n",
    "Plot areas can be filled based on conditions. Below is an example.\n",
    "\n",
    "The code in the next cell serves only to create summy data for a graph. "
   ]
  },
  {
   "cell_type": "code",
   "execution_count": null,
   "metadata": {},
   "outputs": [],
   "source": [
    "# The code in this cell is just for creating a dummy graph\n",
    "import numpy as np\n",
    "x1 = np.linspace(1, 10, 100)\n",
    "x2 = np.linspace(10, 15, 100)\n",
    "x3 = np.linspace(15, 20, 100)\n",
    "y1 = 2 * np.sin(1.98*x1)\n",
    "y2 = 3 * np.sin(-x2)\n",
    "y3 = 1 * np.sin(2.2 * x3)\n",
    "y = np.append(np.append(y1, y2), y3)\n",
    "x = np.append(np.append(x1, x2), x3)"
   ]
  },
  {
   "cell_type": "markdown",
   "metadata": {},
   "source": [
    "Plotting this dummy graph and filling areas between the graph and $y=0$ with green color:"
   ]
  },
  {
   "cell_type": "code",
   "execution_count": null,
   "metadata": {},
   "outputs": [],
   "source": [
    "# Plot line graph in black\n",
    "plt.plot(x, y, color='black', linewidth=1)\n",
    "\n",
    "# Put green/purple fill between the graph y=0\n",
    "plt.fill_between(x, y, color='limegreen',  alpha=.25)\n",
    "\n",
    "plt.show()"
   ]
  },
  {
   "cell_type": "markdown",
   "metadata": {},
   "source": [
    "With differentiated colors:"
   ]
  },
  {
   "cell_type": "code",
   "execution_count": null,
   "metadata": {},
   "outputs": [],
   "source": [
    "# Plot line graph in black\n",
    "plt.plot(x, y, color='black', linewidth=1)\n",
    "\n",
    "# Put green/purple fill between the graph y=0\n",
    "plt.fill_between(x, y, where= y <= 0, color='limegreen',  alpha=.25)\n",
    "plt.fill_between(x, y, where= y > 0, color='darkorchid',  alpha=.25)\n",
    "\n",
    "plt.show()"
   ]
  },
  {
   "cell_type": "markdown",
   "metadata": {},
   "source": [
    " * **Note:** The sequences to be plotted has to be numpy arrays in order to make element wise comparison like `where= y > 0`. Trying this with standard Python lists will throw a `TypeError: '<' not supported between instances of 'list' and 'int'`. This is one of the many benefits of `numpy`. See a little more info about `numpy` later in this text."
   ]
  },
  {
   "cell_type": "markdown",
   "metadata": {},
   "source": [
    "### Subplots\n",
    "Creating subplots is also straight forward:"
   ]
  },
  {
   "cell_type": "code",
   "execution_count": null,
   "metadata": {},
   "outputs": [],
   "source": [
    "# Create a figure for holding subplots and set size\n",
    "plt.figure(figsize=(14,3))\n",
    "\n",
    "# Create first plot as line plot\n",
    "plt.subplot(131)\n",
    "plt.plot([1, 2, 3, 4], [1, 2, 3, 4])\n",
    "\n",
    "# Create second plot as scatter plot\n",
    "plt.subplot(132)\n",
    "plt.plot([1, 2, 3, 4], [1, 2, 3, 4], '.', markersize=12)\n",
    "\n",
    "# Create third plot as bar plot\n",
    "plt.subplot(133)\n",
    "plt.bar([1, 2, 3, 4], [1, 2, 3, 4])\n",
    "plt.show()"
   ]
  },
  {
   "cell_type": "markdown",
   "metadata": {},
   "source": [
    "* **Note 1:** The `subplot` argument conatins three digits, where the first one is the number of rows, the second the number of columns and the third the current plot to manipulate. \n",
    "\n",
    "\n",
    "* **Note 2:** For making more complicated grid formations, shared axis tick marks etc. The *Object Oriented API* should be used instead."
   ]
  },
  {
   "cell_type": "markdown",
   "metadata": {},
   "source": [
    "## Object Oriented API\n",
    "Almost every aspect of a visualization can be controlled. However, in order to access more complex controls, the way of interaction with the graph elements also becomes a little more complex. \n",
    "\n",
    "In order to use the more powerful `matplotlib` API, we get into so-called *Object Oriented Programming*. We access each element of a figure as an *object* and manipulate that object.\n",
    "\n",
    "The figure below gives an overview of the objects that can be controlled."
   ]
  },
  {
   "cell_type": "code",
   "execution_count": null,
   "metadata": {},
   "outputs": [],
   "source": [
    "# The purpose of the code below is to show the image \n",
    "from IPython.display import Image\n",
    "Image(filename=\"matplotlib_objects.png\", width=600, height=600)"
   ]
  },
  {
   "cell_type": "markdown",
   "metadata": {},
   "source": [
    "### Subplots"
   ]
  },
  {
   "cell_type": "markdown",
   "metadata": {},
   "source": [
    "* Note especially that the `Axes` object is the actual content of the plot, and therefore does not refer to *x*- or *y*-axis themselves.\n",
    "\n",
    "The Object Oriented API is recommended for more complex plotting like creation of larger grids of subplots where each plot needs independent adjustments. For example: "
   ]
  },
  {
   "cell_type": "code",
   "execution_count": null,
   "metadata": {},
   "outputs": [],
   "source": [
    "# Create a 2 by 3 subplot grid with shared x- and y-axis\n",
    "fig, ax = plt.subplots(2, 3, sharex='col', sharey='row')\n",
    "\n",
    "# Put content on the plot at grid spot 1,1 (0 indexed)\n",
    "ax[1, 1].plot([1, 2, 3], [1 ,2, 3], 'g-.')\n",
    "ax[1, 1].plot([3, 2, 1], [1, 2, 3], 'm:')\n",
    "\n",
    "plt.show()"
   ]
  },
  {
   "cell_type": "markdown",
   "metadata": {},
   "source": [
    "* In this manner, all objects on every subplot can manipulated.\n",
    "\n",
    "* There are many other plot types where the *Object Orientated API* is preferred compared to the simple Matlab style one."
   ]
  },
  {
   "cell_type": "markdown",
   "metadata": {},
   "source": [
    "## Online help and plotting galleries\n",
    "Instead of creating a figure from scrath, it can be quicker to serch the web for the graph style of choice, fetch a piece of code and modify it. \n",
    "\n",
    "Here are some useful links:\n",
    "\n",
    "* Plotting gallery for `matplotlib` with code examples: https://matplotlib.org/gallery/index.html\n",
    "\n",
    "\n",
    "* Some more examples with `matplotlib`: https://www.machinelearningplus.com/plots/top-50-matplotlib-visualizations-the-master-plots-python/\n",
    "\n",
    "\n",
    "* Predefined styles `matplotlib`: https://matplotlib.org/gallery/style_sheets/style_sheets_reference.html\n",
    "\n",
    "\n",
    "* Predefined colors for `matplotlib`: https://matplotlib.org/gallery/color/named_colors.html. Colors can also be defined as hexidecimal or RGB.\n"
   ]
  },
  {
   "cell_type": "markdown",
   "metadata": {},
   "source": [
    "# Numerical computation library: `numpy`\n",
    "Another very well known and broadly used third party library is `numpy` (short for Numerical Python), which contains many useful features for fast and efficient numerical calculations. This library has a lot of the same functionality as `Matlab` and utilizes vectorization to perform calculations.\n",
    "\n",
    "It can be installed in the same way as every other third party library, namely by entering `pip install numpy` in the *Anaconda Prompt*.\n",
    "\n",
    "Once installed, the `numpy` can be used as shown below. Like with the `matplotlib` import, `numpy`also has a community accepted standard:"
   ]
  },
  {
   "cell_type": "code",
   "execution_count": null,
   "metadata": {},
   "outputs": [],
   "source": [
    "import numpy as np"
   ]
  },
  {
   "cell_type": "markdown",
   "metadata": {},
   "source": [
    "The basic data structure in `numpy` is called an array, which can be compared to a normal Python list, except it can only hold numerical values. \n",
    "\n",
    "A numpy array can be created, for example from a list, like this:"
   ]
  },
  {
   "cell_type": "code",
   "execution_count": null,
   "metadata": {},
   "outputs": [],
   "source": [
    "L = [1, 2, 3, 4, 5]   # A normal Python list\n",
    "arr = np.array(L)     # List converted to numpy array"
   ]
  },
  {
   "cell_type": "markdown",
   "metadata": {},
   "source": [
    "Printing the array looks like a normal list:"
   ]
  },
  {
   "cell_type": "code",
   "execution_count": null,
   "metadata": {},
   "outputs": [],
   "source": [
    "print(arr)  "
   ]
  },
  {
   "cell_type": "markdown",
   "metadata": {},
   "source": [
    "But it is in fact a `numpy` array, which can be seen by inspecting the type:"
   ]
  },
  {
   "cell_type": "code",
   "execution_count": null,
   "metadata": {},
   "outputs": [],
   "source": [
    "print(type(arr))"
   ]
  },
  {
   "cell_type": "markdown",
   "metadata": {},
   "source": [
    "The fact that `numpy` uses verctorization can be seen for example by performing mulitplication:"
   ]
  },
  {
   "cell_type": "code",
   "execution_count": null,
   "metadata": {},
   "outputs": [],
   "source": [
    "# Multiply all array elements by 2 and print result\n",
    "arr_double = 2 * arr\n",
    "print(arr_double)"
   ]
  },
  {
   "cell_type": "markdown",
   "metadata": {},
   "source": [
    "Recall that doing the same operation with a normal Python list is a little more complicated. Here shown with a list comprehension, but a normal `for` loop could also be used. "
   ]
  },
  {
   "cell_type": "code",
   "execution_count": null,
   "metadata": {},
   "outputs": [],
   "source": [
    "# Multiply all list elements by 2 and print result\n",
    "L_double = [2*i for i in L]\n",
    "print(L_double)"
   ]
  },
  {
   "cell_type": "markdown",
   "metadata": {},
   "source": [
    "As mentioned, `numpy` has many useful functions and methods. One of the most used functions is \n",
    "\n",
    "~~~python\n",
    "numpy.linspace(start, stop, num=50) \n",
    "~~~\n",
    "which will generate an array of `num` numbers evenly spaced between `start` and `end`. As we day from Session 3 about functions, the `num=50` means that `num` is an optional argument, the default value of which is 50. So, if `num` is not specified, the generated array will have 50 evenly spaced numbers between `start`and `end`.\n",
    "\n",
    "**Note** that the `numpy.linspace()` function has more arguments, which are not shown here. See the documention for more info: https://docs.scipy.org/doc/numpy/reference/generated/numpy.linspace.html\n",
    "\n",
    "An example:"
   ]
  },
  {
   "cell_type": "code",
   "execution_count": null,
   "metadata": {},
   "outputs": [],
   "source": [
    "np.linspace(0, 1, 10)"
   ]
  },
  {
   "cell_type": "markdown",
   "metadata": {},
   "source": [
    "The `numpy.linspace()` function can especially be useful when generating $x$-values for plotting purposes."
   ]
  },
  {
   "cell_type": "markdown",
   "metadata": {},
   "source": [
    "# Exercises\n",
    "\n",
    "All exercises use the simple API described above.\n",
    "\n",
    "## Exercise 1.1\n",
    "\n",
    "Plot a black line graph with dots at the points with these coordinates:\n",
    "\n",
    "~~~python\n",
    "x = [1, 3, 6, 9, 16]\n",
    "y = [7, 3, 7, 1, 5]\n",
    "~~~\n",
    "\n",
    "Remember to `import matplotlib.pyplot as plt` and to call `plt.show()`. \n",
    "\n",
    "The color can be set by `plt.plot(..., color='black')` or by a shortcut `plt.plot(..., 'k')`, where `'k'` is black becuase `'b'` is blue. \n",
    "\n",
    "## Exercise 1.2\n",
    "Set the plot title on the graph from Exercise 1.1. You choose what the title should be.\n",
    "\n",
    "## Exercise 1.3\n",
    "Set the title of the *x-* and *y*-axis on the graph from Exercise 1.1. You choose what the title should be.\n",
    "\n",
    "## Exercise 1.4\n",
    "Add the graphs with the following *y-*values to the plot from Exercise 1.1. Use the same *x-*values for all curves.\n",
    "\n",
    "~~~python\n",
    "y2 = [9, 5, 5, 2, 6]\n",
    "y3 = [4, 6, 2, 6, 8]\n",
    "y4 = [1, 8, 1, 3, 2]\n",
    "~~~\n",
    "\n",
    "## Exercise 1.5\n",
    "Go back through the code from the previous exercises and add a `label` to the plots that were procuded. Choose a label text freely.\n",
    "Afterwards, add a lenged to the plot. \n",
    "\n",
    "## Exercise 1.6 \n",
    "Save the figure to a png-file. This can be done by the command `plt.savefig(desired_filename.png)`. This will save it in the same folder as you have your script.\n",
    "\n",
    "\n",
    "*If you are dissatisfied with the size of the saved figure, this can be adjusted by explicitly creating the figure object before any of the graphs are created. Creating the figure object and setting a size is done by `plt.figure(figsize=(width, height))`. Both `width` and `height` are in inches. Try with different values.*\n",
    "\n",
    "\n",
    "*Note: When using the simple API it is not necessary to explicitly create the figure object before starting the plotting with `plt.plot()`, as the figure is automaticllay created in the background with default settings. When saving to a file where it is not possible to drag the plot after creation, it is often useful to set the figure size beforehand*\n",
    "\n",
    "## Exercise 2.1\n",
    "Create a new figure by the command `plt.figure()`. This will create a new figure object that subsequent commands will tie to. This is to avoid having the commands in this exercise be plotted in the plot from the previous exercises. \n",
    "\n",
    "\n",
    "Redo the graphs from the previous exercises, this time split into four subplots instead. You choose how to structure the grid and how to style the graphs with colors, titles, line types etc.\n",
    "\n",
    "\n",
    "## Exercise 2.2\n",
    "Create a new figure and replicate the same subplots as in Exercise 2.1. But this time, turn the plots into bar plots. The only difference is that the plotting call should now be `plt.bar(...)`.\n",
    "\n",
    "\n",
    "## Exercise 3.1\n",
    "Create plot that is filled with some color of your choice between $y=0$ and the curve defined by $xx$ and $yy$ below:\n",
    "\n",
    "~~~python \n",
    "import numpy as np\n",
    "xx = np.linspace(-100, 100, 100)\n",
    "yy = xx**2-3027         # <- Elementwise multiplication (numpy)\n",
    "~~~\n",
    "\n",
    "\n",
    "## Exercise 4.1\n",
    "Use `numpy.linspace()` to create an array with 10 values from 1-10. Save the array in a a variable called `x_arr`.\n",
    "\n",
    "Use the code below to create the *y*-values for five graphs. \n",
    "\n",
    "~~~python \n",
    "y_arr1 = np.random.rand(10)\n",
    "y_arr2 = np.random.rand(10)\n",
    "y_arr3 = np.random.rand(10)\n",
    "y_arr4 = np.random.rand(10)\n",
    "y_arr5 = np.random.rand(10)\n",
    "~~~\n",
    "\n",
    "\n",
    "*The `numpy.random.rand()` function creates random values between 0 and 1 (see documentation for more: https://docs.scipy.org/doc/numpy/reference/generated/numpy.random.rand.html)*\n",
    "\n",
    "\n",
    "Create a loop that goes through the five graphs. Each loop should create a figure with your chosen size and settings for the current graph and save it to a png-file.\n",
    "You should end up with five png-files each containing only a single graph/curve."
   ]
  },
  {
   "cell_type": "markdown",
   "metadata": {},
   "source": [
    "## If you are up for more \n",
    "Take the polygon plotting function `plot_polygon()` from the exercise solutions from Session 3. Create different polygons, run them through a for loop and save them to png-files. Remember that the function calls the functions `polygon_area()` and `polygon_centroid`, which also have to be copied."
   ]
  }
 ],
 "metadata": {
  "hide_input": false,
  "kernelspec": {
   "display_name": "Python [default]",
   "language": "python",
   "name": "python3"
  },
  "language_info": {
   "codemirror_mode": {
    "name": "ipython",
    "version": 3
   },
   "file_extension": ".py",
   "mimetype": "text/x-python",
   "name": "python",
   "nbconvert_exporter": "python",
   "pygments_lexer": "ipython3",
   "version": "3.6.6"
  },
  "latex_envs": {
   "LaTeX_envs_menu_present": true,
   "autoclose": false,
   "autocomplete": true,
   "bibliofile": "biblio.bib",
   "cite_by": "apalike",
   "current_citInitial": 1,
   "eqLabelWithNumbers": true,
   "eqNumInitial": 1,
   "hotkeys": {
    "equation": "Ctrl-E",
    "itemize": "Ctrl-I"
   },
   "labels_anchors": false,
   "latex_user_defs": false,
   "report_style_numbering": false,
   "user_envs_cfg": false
  },
  "toc": {
   "base_numbering": 1,
   "nav_menu": {},
   "number_sections": false,
   "sideBar": true,
   "skip_h1_title": false,
   "title_cell": "Table of Contents",
   "title_sidebar": "Table of Contents",
   "toc_cell": true,
   "toc_position": {
    "height": "calc(100% - 180px)",
    "left": "10px",
    "top": "150px",
    "width": "228.509px"
   },
   "toc_section_display": true,
   "toc_window_display": true
  }
 },
 "nbformat": 4,
 "nbformat_minor": 2
}
