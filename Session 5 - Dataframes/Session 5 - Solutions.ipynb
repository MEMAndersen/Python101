{
 "cells": [
  {
   "cell_type": "markdown",
   "metadata": {
    "toc": true
   },
   "source": [
    "<h1>Table of Contents<span class=\"tocSkip\"></span></h1>\n",
    "<div class=\"toc\"><ul class=\"toc-item\"><li><span><a href=\"#Exercise-1.1\" data-toc-modified-id=\"Exercise-1.1-1\">Exercise 1.1</a></span></li><li><span><a href=\"#Exercise-1.2\" data-toc-modified-id=\"Exercise-1.2-2\">Exercise 1.2</a></span></li><li><span><a href=\"#Exercise-1.3\" data-toc-modified-id=\"Exercise-1.3-3\">Exercise 1.3</a></span></li><li><span><a href=\"#Exercise-1.4\" data-toc-modified-id=\"Exercise-1.4-4\">Exercise 1.4</a></span></li><li><span><a href=\"#Exercise-2.1\" data-toc-modified-id=\"Exercise-2.1-5\">Exercise 2.1</a></span></li><li><span><a href=\"#Exercise-2.2\" data-toc-modified-id=\"Exercise-2.2-6\">Exercise 2.2</a></span></li><li><span><a href=\"#Exercise-2.3\" data-toc-modified-id=\"Exercise-2.3-7\">Exercise 2.3</a></span></li><li><span><a href=\"#Exercise-2.4\" data-toc-modified-id=\"Exercise-2.4-8\">Exercise 2.4</a></span></li><li><span><a href=\"#Exercise-2.5\" data-toc-modified-id=\"Exercise-2.5-9\">Exercise 2.5</a></span></li></ul></div>"
   ]
  },
  {
   "cell_type": "markdown",
   "metadata": {},
   "source": [
    "# Exercise 1.1"
   ]
  },
  {
   "cell_type": "code",
   "execution_count": 1,
   "metadata": {},
   "outputs": [],
   "source": [
    "import pandas as pd\n",
    "\n",
    "# Import built-in libraries 'string' and 'random' \n",
    "import random\n",
    "import string\n",
    "\n",
    "# Get upper- and lowercase letters from 'string' library\n",
    "lower = string.ascii_lowercase\n",
    "upper = string.ascii_uppercase\n",
    "\n",
    "# Create a dictionary with dummy data of integers and letters\n",
    "d = {'Integers': [random.randint(1, 100) for i in range(1, 100)],\n",
    "     'Lowercase': [random.choice(lower) for i in range(1, 100)],\n",
    "     'Uppercase': [random.choice(upper) for i in range(1, 100)]}\n",
    "\n",
    "# Create dataframe from dictionary\n",
    "df = pd.DataFrame(d)\n",
    "\n",
    "# df  # <- This would print all 100 rows"
   ]
  },
  {
   "cell_type": "markdown",
   "metadata": {},
   "source": [
    "# Exercise 1.2"
   ]
  },
  {
   "cell_type": "code",
   "execution_count": 2,
   "metadata": {},
   "outputs": [
    {
     "data": {
      "text/html": [
       "<div>\n",
       "<style scoped>\n",
       "    .dataframe tbody tr th:only-of-type {\n",
       "        vertical-align: middle;\n",
       "    }\n",
       "\n",
       "    .dataframe tbody tr th {\n",
       "        vertical-align: top;\n",
       "    }\n",
       "\n",
       "    .dataframe thead th {\n",
       "        text-align: right;\n",
       "    }\n",
       "</style>\n",
       "<table border=\"1\" class=\"dataframe\">\n",
       "  <thead>\n",
       "    <tr style=\"text-align: right;\">\n",
       "      <th></th>\n",
       "      <th>Integers</th>\n",
       "      <th>Lowercase</th>\n",
       "      <th>Uppercase</th>\n",
       "    </tr>\n",
       "  </thead>\n",
       "  <tbody>\n",
       "    <tr>\n",
       "      <th>0</th>\n",
       "      <td>59</td>\n",
       "      <td>z</td>\n",
       "      <td>D</td>\n",
       "    </tr>\n",
       "    <tr>\n",
       "      <th>1</th>\n",
       "      <td>40</td>\n",
       "      <td>x</td>\n",
       "      <td>P</td>\n",
       "    </tr>\n",
       "    <tr>\n",
       "      <th>2</th>\n",
       "      <td>2</td>\n",
       "      <td>t</td>\n",
       "      <td>E</td>\n",
       "    </tr>\n",
       "  </tbody>\n",
       "</table>\n",
       "</div>"
      ],
      "text/plain": [
       "   Integers Lowercase Uppercase\n",
       "0        59         z         D\n",
       "1        40         x         P\n",
       "2         2         t         E"
      ]
     },
     "execution_count": 2,
     "metadata": {},
     "output_type": "execute_result"
    }
   ],
   "source": [
    "df.head(3)"
   ]
  },
  {
   "cell_type": "code",
   "execution_count": 3,
   "metadata": {},
   "outputs": [
    {
     "data": {
      "text/html": [
       "<div>\n",
       "<style scoped>\n",
       "    .dataframe tbody tr th:only-of-type {\n",
       "        vertical-align: middle;\n",
       "    }\n",
       "\n",
       "    .dataframe tbody tr th {\n",
       "        vertical-align: top;\n",
       "    }\n",
       "\n",
       "    .dataframe thead th {\n",
       "        text-align: right;\n",
       "    }\n",
       "</style>\n",
       "<table border=\"1\" class=\"dataframe\">\n",
       "  <thead>\n",
       "    <tr style=\"text-align: right;\">\n",
       "      <th></th>\n",
       "      <th>Integers</th>\n",
       "      <th>Lowercase</th>\n",
       "      <th>Uppercase</th>\n",
       "    </tr>\n",
       "  </thead>\n",
       "  <tbody>\n",
       "    <tr>\n",
       "      <th>95</th>\n",
       "      <td>62</td>\n",
       "      <td>n</td>\n",
       "      <td>V</td>\n",
       "    </tr>\n",
       "    <tr>\n",
       "      <th>96</th>\n",
       "      <td>43</td>\n",
       "      <td>g</td>\n",
       "      <td>G</td>\n",
       "    </tr>\n",
       "    <tr>\n",
       "      <th>97</th>\n",
       "      <td>16</td>\n",
       "      <td>n</td>\n",
       "      <td>C</td>\n",
       "    </tr>\n",
       "    <tr>\n",
       "      <th>98</th>\n",
       "      <td>7</td>\n",
       "      <td>v</td>\n",
       "      <td>K</td>\n",
       "    </tr>\n",
       "  </tbody>\n",
       "</table>\n",
       "</div>"
      ],
      "text/plain": [
       "    Integers Lowercase Uppercase\n",
       "95        62         n         V\n",
       "96        43         g         G\n",
       "97        16         n         C\n",
       "98         7         v         K"
      ]
     },
     "execution_count": 3,
     "metadata": {},
     "output_type": "execute_result"
    }
   ],
   "source": [
    "df.tail(4)"
   ]
  },
  {
   "cell_type": "markdown",
   "metadata": {},
   "source": [
    "# Exercise 1.3"
   ]
  },
  {
   "cell_type": "code",
   "execution_count": 4,
   "metadata": {},
   "outputs": [
    {
     "data": {
      "text/html": [
       "<div>\n",
       "<style scoped>\n",
       "    .dataframe tbody tr th:only-of-type {\n",
       "        vertical-align: middle;\n",
       "    }\n",
       "\n",
       "    .dataframe tbody tr th {\n",
       "        vertical-align: top;\n",
       "    }\n",
       "\n",
       "    .dataframe thead th {\n",
       "        text-align: right;\n",
       "    }\n",
       "</style>\n",
       "<table border=\"1\" class=\"dataframe\">\n",
       "  <thead>\n",
       "    <tr style=\"text-align: right;\">\n",
       "      <th></th>\n",
       "      <th>Integers</th>\n",
       "      <th>Lowercase</th>\n",
       "      <th>Uppercase</th>\n",
       "    </tr>\n",
       "  </thead>\n",
       "  <tbody>\n",
       "    <tr>\n",
       "      <th>41</th>\n",
       "      <td>75</td>\n",
       "      <td>v</td>\n",
       "      <td>K</td>\n",
       "    </tr>\n",
       "    <tr>\n",
       "      <th>98</th>\n",
       "      <td>7</td>\n",
       "      <td>v</td>\n",
       "      <td>K</td>\n",
       "    </tr>\n",
       "  </tbody>\n",
       "</table>\n",
       "</div>"
      ],
      "text/plain": [
       "    Integers Lowercase Uppercase\n",
       "41        75         v         K\n",
       "98         7         v         K"
      ]
     },
     "execution_count": 4,
     "metadata": {},
     "output_type": "execute_result"
    }
   ],
   "source": [
    "dfk = df[df['Uppercase'] == 'K']\n",
    "dfk.head()"
   ]
  },
  {
   "cell_type": "markdown",
   "metadata": {},
   "source": [
    "# Exercise 1.4"
   ]
  },
  {
   "cell_type": "code",
   "execution_count": 5,
   "metadata": {},
   "outputs": [
    {
     "data": {
      "text/html": [
       "<div>\n",
       "<style scoped>\n",
       "    .dataframe tbody tr th:only-of-type {\n",
       "        vertical-align: middle;\n",
       "    }\n",
       "\n",
       "    .dataframe tbody tr th {\n",
       "        vertical-align: top;\n",
       "    }\n",
       "\n",
       "    .dataframe thead th {\n",
       "        text-align: right;\n",
       "    }\n",
       "</style>\n",
       "<table border=\"1\" class=\"dataframe\">\n",
       "  <thead>\n",
       "    <tr style=\"text-align: right;\">\n",
       "      <th></th>\n",
       "      <th>Integers</th>\n",
       "      <th>Lowercase</th>\n",
       "      <th>Uppercase</th>\n",
       "    </tr>\n",
       "  </thead>\n",
       "  <tbody>\n",
       "    <tr>\n",
       "      <th>0</th>\n",
       "      <td>75</td>\n",
       "      <td>v</td>\n",
       "      <td>K</td>\n",
       "    </tr>\n",
       "    <tr>\n",
       "      <th>1</th>\n",
       "      <td>7</td>\n",
       "      <td>v</td>\n",
       "      <td>K</td>\n",
       "    </tr>\n",
       "  </tbody>\n",
       "</table>\n",
       "</div>"
      ],
      "text/plain": [
       "   Integers Lowercase Uppercase\n",
       "0        75         v         K\n",
       "1         7         v         K"
      ]
     },
     "execution_count": 5,
     "metadata": {},
     "output_type": "execute_result"
    }
   ],
   "source": [
    "dfk = dfk.reset_index(drop=True)\n",
    "dfk"
   ]
  },
  {
   "cell_type": "markdown",
   "metadata": {},
   "source": [
    "# Exercise 2.1"
   ]
  },
  {
   "cell_type": "code",
   "execution_count": 27,
   "metadata": {},
   "outputs": [
    {
     "data": {
      "text/html": [
       "<div>\n",
       "<style scoped>\n",
       "    .dataframe tbody tr th:only-of-type {\n",
       "        vertical-align: middle;\n",
       "    }\n",
       "\n",
       "    .dataframe tbody tr th {\n",
       "        vertical-align: top;\n",
       "    }\n",
       "\n",
       "    .dataframe thead th {\n",
       "        text-align: right;\n",
       "    }\n",
       "</style>\n",
       "<table border=\"1\" class=\"dataframe\">\n",
       "  <thead>\n",
       "    <tr style=\"text-align: right;\">\n",
       "      <th></th>\n",
       "      <th>LC</th>\n",
       "      <th>LC-title</th>\n",
       "      <th>Element_no</th>\n",
       "      <th>P[kN]</th>\n",
       "      <th>Shear_key</th>\n",
       "    </tr>\n",
       "  </thead>\n",
       "  <tbody>\n",
       "    <tr>\n",
       "      <th>0</th>\n",
       "      <td>4033</td>\n",
       "      <td>Shear keys - W - 2553/2554</td>\n",
       "      <td>10100001</td>\n",
       "      <td>0.1</td>\n",
       "      <td>Shear_key20</td>\n",
       "    </tr>\n",
       "    <tr>\n",
       "      <th>1</th>\n",
       "      <td>4033</td>\n",
       "      <td>Shear keys - W - 2553/2554</td>\n",
       "      <td>10100002</td>\n",
       "      <td>0.1</td>\n",
       "      <td>Shear_key20</td>\n",
       "    </tr>\n",
       "    <tr>\n",
       "      <th>2</th>\n",
       "      <td>4033</td>\n",
       "      <td>Shear keys - W - 2553/2554</td>\n",
       "      <td>10100003</td>\n",
       "      <td>0.0</td>\n",
       "      <td>Shear_key20</td>\n",
       "    </tr>\n",
       "    <tr>\n",
       "      <th>3</th>\n",
       "      <td>4033</td>\n",
       "      <td>Shear keys - W - 2553/2554</td>\n",
       "      <td>10100004</td>\n",
       "      <td>-0.1</td>\n",
       "      <td>Shear_key19</td>\n",
       "    </tr>\n",
       "    <tr>\n",
       "      <th>4</th>\n",
       "      <td>4033</td>\n",
       "      <td>Shear keys - W - 2553/2554</td>\n",
       "      <td>10100005</td>\n",
       "      <td>0.0</td>\n",
       "      <td>Shear_key19</td>\n",
       "    </tr>\n",
       "  </tbody>\n",
       "</table>\n",
       "</div>"
      ],
      "text/plain": [
       "     LC                    LC-title  Element_no  P[kN]    Shear_key\n",
       "0  4033  Shear keys - W - 2553/2554    10100001    0.1  Shear_key20\n",
       "1  4033  Shear keys - W - 2553/2554    10100002    0.1  Shear_key20\n",
       "2  4033  Shear keys - W - 2553/2554    10100003    0.0  Shear_key20\n",
       "3  4033  Shear keys - W - 2553/2554    10100004   -0.1  Shear_key19\n",
       "4  4033  Shear keys - W - 2553/2554    10100005    0.0  Shear_key19"
      ]
     },
     "execution_count": 27,
     "metadata": {},
     "output_type": "execute_result"
    }
   ],
   "source": [
    "# Import csv file to dataframe\n",
    "dfr = pd.read_csv('shear_key_forces.csv')\n",
    "dfr.head()"
   ]
  },
  {
   "cell_type": "markdown",
   "metadata": {},
   "source": [
    "# Exercise 2.2"
   ]
  },
  {
   "cell_type": "code",
   "execution_count": 28,
   "metadata": {},
   "outputs": [
    {
     "data": {
      "text/html": [
       "<div>\n",
       "<style scoped>\n",
       "    .dataframe tbody tr th:only-of-type {\n",
       "        vertical-align: middle;\n",
       "    }\n",
       "\n",
       "    .dataframe tbody tr th {\n",
       "        vertical-align: top;\n",
       "    }\n",
       "\n",
       "    .dataframe thead th {\n",
       "        text-align: right;\n",
       "    }\n",
       "</style>\n",
       "<table border=\"1\" class=\"dataframe\">\n",
       "  <thead>\n",
       "    <tr style=\"text-align: right;\">\n",
       "      <th></th>\n",
       "      <th>LC</th>\n",
       "      <th>LC-title</th>\n",
       "      <th>Element_no</th>\n",
       "      <th>P[kN]</th>\n",
       "      <th>Shear_key</th>\n",
       "    </tr>\n",
       "  </thead>\n",
       "  <tbody>\n",
       "    <tr>\n",
       "      <th>0</th>\n",
       "      <td>4033</td>\n",
       "      <td>Shear keys - W - 2553/2554</td>\n",
       "      <td>10100001</td>\n",
       "      <td>0.1</td>\n",
       "      <td>Shear_key20</td>\n",
       "    </tr>\n",
       "    <tr>\n",
       "      <th>1</th>\n",
       "      <td>4033</td>\n",
       "      <td>Shear keys - W - 2553/2554</td>\n",
       "      <td>10100002</td>\n",
       "      <td>0.1</td>\n",
       "      <td>Shear_key20</td>\n",
       "    </tr>\n",
       "    <tr>\n",
       "      <th>2</th>\n",
       "      <td>4033</td>\n",
       "      <td>Shear keys - W - 2553/2554</td>\n",
       "      <td>10100003</td>\n",
       "      <td>0.0</td>\n",
       "      <td>Shear_key20</td>\n",
       "    </tr>\n",
       "    <tr>\n",
       "      <th>3</th>\n",
       "      <td>4033</td>\n",
       "      <td>Shear keys - W - 2553/2554</td>\n",
       "      <td>10100004</td>\n",
       "      <td>-0.1</td>\n",
       "      <td>Shear_key19</td>\n",
       "    </tr>\n",
       "    <tr>\n",
       "      <th>4</th>\n",
       "      <td>4033</td>\n",
       "      <td>Shear keys - W - 2553/2554</td>\n",
       "      <td>10100005</td>\n",
       "      <td>0.0</td>\n",
       "      <td>Shear_key19</td>\n",
       "    </tr>\n",
       "  </tbody>\n",
       "</table>\n",
       "</div>"
      ],
      "text/plain": [
       "     LC                    LC-title  Element_no  P[kN]    Shear_key\n",
       "0  4033  Shear keys - W - 2553/2554    10100001    0.1  Shear_key20\n",
       "1  4033  Shear keys - W - 2553/2554    10100002    0.1  Shear_key20\n",
       "2  4033  Shear keys - W - 2553/2554    10100003    0.0  Shear_key20\n",
       "3  4033  Shear keys - W - 2553/2554    10100004   -0.1  Shear_key19\n",
       "4  4033  Shear keys - W - 2553/2554    10100005    0.0  Shear_key19"
      ]
     },
     "execution_count": 28,
     "metadata": {},
     "output_type": "execute_result"
    }
   ],
   "source": [
    "# Filer dataframe to contain only shear keys \n",
    "dfr = dfr[dfr['Shear_key'] != 'Not_a_shear_key']\n",
    "dfr.head()"
   ]
  },
  {
   "cell_type": "markdown",
   "metadata": {},
   "source": [
    "# Exercise 2.3"
   ]
  },
  {
   "cell_type": "code",
   "execution_count": 29,
   "metadata": {},
   "outputs": [
    {
     "data": {
      "text/html": [
       "<div>\n",
       "<style scoped>\n",
       "    .dataframe tbody tr th:only-of-type {\n",
       "        vertical-align: middle;\n",
       "    }\n",
       "\n",
       "    .dataframe tbody tr th {\n",
       "        vertical-align: top;\n",
       "    }\n",
       "\n",
       "    .dataframe thead th {\n",
       "        text-align: right;\n",
       "    }\n",
       "</style>\n",
       "<table border=\"1\" class=\"dataframe\">\n",
       "  <thead>\n",
       "    <tr style=\"text-align: right;\">\n",
       "      <th></th>\n",
       "      <th>LC</th>\n",
       "      <th>LC-title</th>\n",
       "      <th>P[kN]</th>\n",
       "      <th>Shear_key</th>\n",
       "    </tr>\n",
       "  </thead>\n",
       "  <tbody>\n",
       "    <tr>\n",
       "      <th>0</th>\n",
       "      <td>4033</td>\n",
       "      <td>Shear keys - W - 2553/2554</td>\n",
       "      <td>0.1</td>\n",
       "      <td>Shear_key20</td>\n",
       "    </tr>\n",
       "    <tr>\n",
       "      <th>1</th>\n",
       "      <td>4033</td>\n",
       "      <td>Shear keys - W - 2553/2554</td>\n",
       "      <td>0.1</td>\n",
       "      <td>Shear_key20</td>\n",
       "    </tr>\n",
       "    <tr>\n",
       "      <th>2</th>\n",
       "      <td>4033</td>\n",
       "      <td>Shear keys - W - 2553/2554</td>\n",
       "      <td>0.0</td>\n",
       "      <td>Shear_key20</td>\n",
       "    </tr>\n",
       "    <tr>\n",
       "      <th>3</th>\n",
       "      <td>4033</td>\n",
       "      <td>Shear keys - W - 2553/2554</td>\n",
       "      <td>-0.1</td>\n",
       "      <td>Shear_key19</td>\n",
       "    </tr>\n",
       "    <tr>\n",
       "      <th>4</th>\n",
       "      <td>4033</td>\n",
       "      <td>Shear keys - W - 2553/2554</td>\n",
       "      <td>0.0</td>\n",
       "      <td>Shear_key19</td>\n",
       "    </tr>\n",
       "  </tbody>\n",
       "</table>\n",
       "</div>"
      ],
      "text/plain": [
       "     LC                    LC-title  P[kN]    Shear_key\n",
       "0  4033  Shear keys - W - 2553/2554    0.1  Shear_key20\n",
       "1  4033  Shear keys - W - 2553/2554    0.1  Shear_key20\n",
       "2  4033  Shear keys - W - 2553/2554    0.0  Shear_key20\n",
       "3  4033  Shear keys - W - 2553/2554   -0.1  Shear_key19\n",
       "4  4033  Shear keys - W - 2553/2554    0.0  Shear_key19"
      ]
     },
     "execution_count": 29,
     "metadata": {},
     "output_type": "execute_result"
    }
   ],
   "source": [
    "dfr = dfr.drop('Element_no', axis=1)\n",
    "dfr.head()"
   ]
  },
  {
   "cell_type": "markdown",
   "metadata": {},
   "source": [
    "# Exercise 2.4"
   ]
  },
  {
   "cell_type": "code",
   "execution_count": 30,
   "metadata": {
    "scrolled": false
   },
   "outputs": [
    {
     "data": {
      "text/html": [
       "<div>\n",
       "<style scoped>\n",
       "    .dataframe tbody tr th:only-of-type {\n",
       "        vertical-align: middle;\n",
       "    }\n",
       "\n",
       "    .dataframe tbody tr th {\n",
       "        vertical-align: top;\n",
       "    }\n",
       "\n",
       "    .dataframe thead th {\n",
       "        text-align: right;\n",
       "    }\n",
       "</style>\n",
       "<table border=\"1\" class=\"dataframe\">\n",
       "  <thead>\n",
       "    <tr style=\"text-align: right;\">\n",
       "      <th></th>\n",
       "      <th>Shear_key</th>\n",
       "      <th>LC</th>\n",
       "      <th>LC-title</th>\n",
       "      <th>P[kN]</th>\n",
       "    </tr>\n",
       "  </thead>\n",
       "  <tbody>\n",
       "    <tr>\n",
       "      <th>0</th>\n",
       "      <td>Shear_key1</td>\n",
       "      <td>4043</td>\n",
       "      <td>Shear keys - W - remaining</td>\n",
       "      <td>0.0</td>\n",
       "    </tr>\n",
       "    <tr>\n",
       "      <th>1</th>\n",
       "      <td>Shear_key1</td>\n",
       "      <td>4044</td>\n",
       "      <td>Top slab- beam shear keys activa</td>\n",
       "      <td>-284.1</td>\n",
       "    </tr>\n",
       "    <tr>\n",
       "      <th>2</th>\n",
       "      <td>Shear_key1</td>\n",
       "      <td>4045</td>\n",
       "      <td>Protection concrete</td>\n",
       "      <td>-300.6</td>\n",
       "    </tr>\n",
       "    <tr>\n",
       "      <th>3</th>\n",
       "      <td>Shear_key1</td>\n",
       "      <td>4046</td>\n",
       "      <td>Backfill</td>\n",
       "      <td>-855.8</td>\n",
       "    </tr>\n",
       "    <tr>\n",
       "      <th>4</th>\n",
       "      <td>Shear_key1</td>\n",
       "      <td>4047</td>\n",
       "      <td>Ballast concrete of 16.8</td>\n",
       "      <td>-900.3</td>\n",
       "    </tr>\n",
       "  </tbody>\n",
       "</table>\n",
       "</div>"
      ],
      "text/plain": [
       "    Shear_key    LC                          LC-title  P[kN]\n",
       "0  Shear_key1  4043        Shear keys - W - remaining    0.0\n",
       "1  Shear_key1  4044  Top slab- beam shear keys activa -284.1\n",
       "2  Shear_key1  4045               Protection concrete -300.6\n",
       "3  Shear_key1  4046                          Backfill -855.8\n",
       "4  Shear_key1  4047          Ballast concrete of 16.8 -900.3"
      ]
     },
     "execution_count": 30,
     "metadata": {},
     "output_type": "execute_result"
    }
   ],
   "source": [
    "# Create groupby object and perform sum operation on it\n",
    "dfr_sum = dfr.groupby(['Shear_key', 'LC', 'LC-title'], as_index=False).sum()\n",
    "dfr_sum.head()"
   ]
  },
  {
   "cell_type": "markdown",
   "metadata": {},
   "source": [
    "The list of column labels `['Shear_key', 'LC', 'LC-title']` are the columns that are to be present in the resulting dataframe. The parameter `as_index` is by default `True`, which would create a multiindex out of all the column labels listed. By setting `as_index=False`, we reset to 0-indexing. "
   ]
  },
  {
   "cell_type": "markdown",
   "metadata": {},
   "source": [
    "# Exercise 2.5"
   ]
  },
  {
   "cell_type": "code",
   "execution_count": 35,
   "metadata": {},
   "outputs": [
    {
     "data": {
      "text/plain": [
       "<matplotlib.axes._subplots.AxesSubplot at 0x1aeecabdbe0>"
      ]
     },
     "execution_count": 35,
     "metadata": {},
     "output_type": "execute_result"
    },
    {
     "data": {
      "image/png": "[encoded data removed]",
      "text/plain": [
       "<Figure size 1080x360 with 1 Axes>"
      ]
     },
     "metadata": {
      "needs_background": "light"
     },
     "output_type": "display_data"
    }
   ],
   "source": [
    "# Filter for shear key 1\n",
    "df_key1 = dfr_sum[dfr_sum['Shear_key'] == 'Shear_key1']\n",
    "\n",
    "# Use built-in pandas plot\n",
    "df_key1.plot(kind='bar', x='LC', y='P[kN]', rot=45, figsize=(15, 5), color='orange', alpha=0.50)"
   ]
  },
  {
   "cell_type": "markdown",
   "metadata": {},
   "source": [
    "**Note:** The same plot could be constructed by extracting arrays in columns `'LC'` and `'P[kN]'` to variables and using `matplotlib` itself as `plt.bar(...)`. To do that, you would have to import `matplotlib.pyplot as plt`.\n",
    "`pandas` just provides a shortcut to get a fast graph out."
   ]
  },
  {
   "cell_type": "code",
   "execution_count": null,
   "metadata": {},
   "outputs": [],
   "source": []
  }
 ],
 "metadata": {
  "hide_input": false,
  "kernelspec": {
   "display_name": "Python [default]",
   "language": "python",
   "name": "python3"
  },
  "language_info": {
   "codemirror_mode": {
    "name": "ipython",
    "version": 3
   },
   "file_extension": ".py",
   "mimetype": "text/x-python",
   "name": "python",
   "nbconvert_exporter": "python",
   "pygments_lexer": "ipython3",
   "version": "3.6.6"
  },
  "latex_envs": {
   "LaTeX_envs_menu_present": true,
   "autoclose": false,
   "autocomplete": true,
   "bibliofile": "biblio.bib",
   "cite_by": "apalike",
   "current_citInitial": 1,
   "eqLabelWithNumbers": true,
   "eqNumInitial": 1,
   "hotkeys": {
    "equation": "Ctrl-E",
    "itemize": "Ctrl-I"
   },
   "labels_anchors": false,
   "latex_user_defs": false,
   "report_style_numbering": false,
   "user_envs_cfg": false
  },
  "toc": {
   "base_numbering": 1,
   "nav_menu": {},
   "number_sections": false,
   "sideBar": true,
   "skip_h1_title": false,
   "title_cell": "Table of Contents",
   "title_sidebar": "Table of Contents",
   "toc_cell": true,
   "toc_position": {},
   "toc_section_display": true,
   "toc_window_display": false
  }
 },
 "nbformat": 4,
 "nbformat_minor": 2
}
